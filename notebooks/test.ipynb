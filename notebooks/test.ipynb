{
 "cells": [
  {
   "cell_type": "code",
   "execution_count": null,
   "metadata": {},
   "outputs": [],
   "source": [
    "import cv2\n",
    "import numpy as np\n",
    "import tensorflow as tf\n",
    "import os\n",
    "\n",
    "# Check if the model file exists\n",
    "model_path = \"weights/cnn_driver_drowsiness_detection-m1.h5\"\n",
    "if not os.path.exists(model_path):\n",
    "    raise FileNotFoundError(f\"No file or directory found at {model_path}\")\n",
    "\n",
    "# Load the trained model\n",
    "model = tf.keras.models.load_model(model_path)\n",
    "\n",
    "# Start video capture from the camera (0 for default camera)\n",
    "cap = cv2.VideoCapture(0)\n",
    "\n",
    "while True:\n",
    "    ret, frame = cap.read()\n",
    "    \n",
    "    if not ret:\n",
    "        break\n",
    "    \n",
    "    # Preprocess the frame for prediction\n",
    "    img = cv2.resize(frame, (80, 80))  # Resize to match model input size\n",
    "    img_array = np.array(img) / 255.0  # Normalize pixel values\n",
    "    img_array = np.expand_dims(img_array, axis=0)  # Add batch dimension\n",
    "\n",
    "    # Make predictions\n",
    "    predictions = model.predict(img_array)\n",
    "    \n",
    "    # Get confidence scores for both classes\n",
    "    closed_eyes_confidence = predictions[0][0] * 100  # Assuming index 0 is for closed eyes\n",
    "    open_eyes_confidence = predictions[0][1] * 100     # Assuming index 1 is for open eyes\n",
    "\n",
    "    # Display confidence scores on the frame\n",
    "    cv2.putText(frame, f'Closed Eyes Confidence: {closed_eyes_confidence:.2f}%', \n",
    "                (10, 30), cv2.FONT_HERSHEY_SIMPLEX, 1, (255, 0, 0), 2)\n",
    "    cv2.putText(frame, f'Open Eyes Confidence: {open_eyes_confidence:.2f}%', \n",
    "                (10, 60), cv2.FONT_HERSHEY_SIMPLEX, 1, (0, 255, 0), 2)\n",
    "\n",
    "    # Check if confidence score exceeds threshold (e.g., closed eyes)\n",
    "    if closed_eyes_confidence > 65:\n",
    "        cv2.putText(frame, \"ALERT: Closed Eyes!\", (10, 90), cv2.FONT_HERSHEY_SIMPLEX, 1, (0, 0, 255), 2)\n",
    "\n",
    "    # Show video feed with predictions overlayed\n",
    "    cv2.imshow('Live Video Feed', frame)\n",
    "    \n",
    "    if cv2.waitKey(1) & 0xFF == ord('q'):\n",
    "        break\n",
    "\n",
    "# Release resources\n",
    "cap.release()\n",
    "cv2.destroyAllWindows()"
   ]
  }
 ],
 "metadata": {
  "kernelspec": {
   "display_name": "venv",
   "language": "python",
   "name": "python3"
  },
  "language_info": {
   "codemirror_mode": {
    "name": "ipython",
    "version": 3
   },
   "file_extension": ".py",
   "mimetype": "text/x-python",
   "name": "python",
   "nbconvert_exporter": "python",
   "pygments_lexer": "ipython3",
   "version": "3.10.9"
  }
 },
 "nbformat": 4,
 "nbformat_minor": 2
}
