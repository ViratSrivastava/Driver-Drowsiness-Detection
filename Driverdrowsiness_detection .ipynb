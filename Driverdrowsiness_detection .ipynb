{
 "cells": [
  {
   "cell_type": "code",
   "execution_count": 1,
   "id": "33e3c5cb",
   "metadata": {},
   "outputs": [],
   "source": [
    "import matplotlib.pyplot as plt\n",
    "import numpy as np\n",
    "import PIL  # image processing a method to perform some operations on an image, in order to get an enhanced image or to extract some useful information from it \n",
    "import tensorflow as tf\n",
    "from tensorflow import keras\n",
    "from tensorflow.keras.layers import Dense, GlobalAveragePooling2D, Dropout, Flatten, Conv2D, MaxPooling2D\n",
    "from tensorflow.keras.models import Sequential\n",
    "from tensorflow.keras.optimizers import Adam #adaptive optimization algorithm that was created specifically for deep neural network training"
   ]
  },
  {
   "cell_type": "code",
   "execution_count": 2,
   "id": "08cc8c38",
   "metadata": {
    "scrolled": true
   },
   "outputs": [
    {
     "name": "stdout",
     "output_type": "stream",
     "text": [
      "Found 67290 images belonging to 2 classes.\n",
      "Found 16822 images belonging to 2 classes.\n"
     ]
    }
   ],
   "source": [
    "from tensorflow.keras.preprocessing.image import ImageDataGenerator\n",
    "data_dir = \"D:/s0002\"\n",
    "train_datagen = ImageDataGenerator(validation_split=0.2) \n",
    "\n",
    "train_generator = train_datagen.flow_from_directory( data_dir,\n",
    "                                                     target_size=(32,32),\n",
    "                                                     batch_size=32,\n",
    "                                                     shuffle=True,\n",
    "                                                     class_mode='categorical',\n",
    "                                                     subset='training')\n",
    "\n",
    "validation_datagen = ImageDataGenerator(validation_split=0.2)\n",
    "\n",
    "validation_generator =  validation_datagen.flow_from_directory( data_dir,\n",
    "                                                                target_size=(32,32),\n",
    "                                                                batch_size=32,\n",
    "                                                                class_mode='categorical',\n",
    "                                                                subset='validation')   "
   ]
  },
  {
   "cell_type": "code",
   "execution_count": 3,
   "id": "78f80326",
   "metadata": {},
   "outputs": [],
   "source": [
    "cnn_model = Sequential([\n",
    "    Conv2D(32, kernel_size=(3, 3), activation='relu', input_shape=(32,32,3)),\n",
    "    MaxPooling2D(pool_size=(1,1)),\n",
    "    Conv2D(32,(3,3),activation='relu'),\n",
    "    MaxPooling2D(pool_size=(1,1)),\n",
    "#32 convolution filters used each of size 3x3\n",
    "#again\n",
    "    Conv2D(64, (3, 3), activation='relu'),\n",
    "    MaxPooling2D(pool_size=(1,1)),\n",
    "\n",
    "#64 convolution filters used each of size 3x3\n",
    "#choose the best features via pooling\n",
    "    \n",
    "#randomly turn neurons on and off to improve convergence\n",
    "    Dropout(0.25),\n",
    "#flatten since too many dimensions, we only want a classification output\n",
    "    Flatten(),\n",
    "#fully connected to get all relevant data\n",
    "    Dense(128, activation='relu'),\n",
    "#one more dropout for convergence' sake :) \n",
    "#    Dropout(0.5),\n",
    "#output a softmax to squash the matrix into output probabilities\n",
    "    Dense(2, activation='softmax')\n",
    "])"
   ]
  },
  {
   "cell_type": "code",
   "execution_count": 4,
   "id": "8f809f0c",
   "metadata": {},
   "outputs": [],
   "source": [
    "cnn_model.compile(optimizer='adam', loss='categorical_crossentropy', metrics=[tf.keras.metrics.CategoricalAccuracy(), tf.keras.metrics.Precision(), tf.keras.metrics.Recall()])"
   ]
  },
  {
   "cell_type": "code",
   "execution_count": 5,
   "id": "09741114",
   "metadata": {},
   "outputs": [],
   "source": [
    "# tf.keras.metrics.CategoricalAccuracy(name='val_categorical_accuracy'),tf.keras.metrics.Precision(name='val_precision'), tf.keras.metrics.Recall(name='val_recall')])"
   ]
  },
  {
   "cell_type": "code",
   "execution_count": 6,
   "id": "2635d2f5",
   "metadata": {},
   "outputs": [
    {
     "name": "stdout",
     "output_type": "stream",
     "text": [
      "Model: \"sequential\"\n",
      "_________________________________________________________________\n",
      " Layer (type)                Output Shape              Param #   \n",
      "=================================================================\n",
      " conv2d (Conv2D)             (None, 30, 30, 32)        896       \n",
      "                                                                 \n",
      " max_pooling2d (MaxPooling2D  (None, 30, 30, 32)       0         \n",
      " )                                                               \n",
      "                                                                 \n",
      " conv2d_1 (Conv2D)           (None, 28, 28, 32)        9248      \n",
      "                                                                 \n",
      " max_pooling2d_1 (MaxPooling  (None, 28, 28, 32)       0         \n",
      " 2D)                                                             \n",
      "                                                                 \n",
      " conv2d_2 (Conv2D)           (None, 26, 26, 64)        18496     \n",
      "                                                                 \n",
      " max_pooling2d_2 (MaxPooling  (None, 26, 26, 64)       0         \n",
      " 2D)                                                             \n",
      "                                                                 \n",
      " dropout (Dropout)           (None, 26, 26, 64)        0         \n",
      "                                                                 \n",
      " flatten (Flatten)           (None, 43264)             0         \n",
      "                                                                 \n",
      " dense (Dense)               (None, 128)               5537920   \n",
      "                                                                 \n",
      " dense_1 (Dense)             (None, 2)                 258       \n",
      "                                                                 \n",
      "=================================================================\n",
      "Total params: 5,566,818\n",
      "Trainable params: 5,566,818\n",
      "Non-trainable params: 0\n",
      "_________________________________________________________________\n"
     ]
    }
   ],
   "source": [
    "cnn_model.summary()"
   ]
  },
  {
   "cell_type": "code",
   "execution_count": 7,
   "id": "6b4e96f8",
   "metadata": {},
   "outputs": [
    {
     "name": "stdout",
     "output_type": "stream",
     "text": [
      "Epoch 1/10\n",
      "2103/2103 [==============================] - 1233s 586ms/step - loss: 0.5209 - categorical_accuracy: 0.9497 - precision: 0.9497 - recall: 0.9497 - val_loss: 0.1539 - val_categorical_accuracy: 0.9517 - val_precision: 0.9517 - val_recall: 0.9517\n",
      "Epoch 2/10\n",
      "2103/2103 [==============================] - 239s 114ms/step - loss: 0.1332 - categorical_accuracy: 0.9490 - precision: 0.9490 - recall: 0.9490 - val_loss: 0.1085 - val_categorical_accuracy: 0.9693 - val_precision: 0.9693 - val_recall: 0.9693\n",
      "Epoch 3/10\n",
      "2103/2103 [==============================] - 238s 113ms/step - loss: 0.0592 - categorical_accuracy: 0.9795 - precision: 0.9795 - recall: 0.9795 - val_loss: 0.0880 - val_categorical_accuracy: 0.9719 - val_precision: 0.9719 - val_recall: 0.9719\n",
      "Epoch 4/10\n",
      "2103/2103 [==============================] - 241s 115ms/step - loss: 0.0331 - categorical_accuracy: 0.9890 - precision: 0.9890 - recall: 0.9890 - val_loss: 0.1074 - val_categorical_accuracy: 0.9715 - val_precision: 0.9715 - val_recall: 0.9715\n",
      "Epoch 5/10\n",
      "2103/2103 [==============================] - 239s 114ms/step - loss: 0.0260 - categorical_accuracy: 0.9917 - precision: 0.9917 - recall: 0.9917 - val_loss: 0.0751 - val_categorical_accuracy: 0.9737 - val_precision: 0.9737 - val_recall: 0.9737\n",
      "Epoch 6/10\n",
      "2103/2103 [==============================] - 237s 113ms/step - loss: 0.0182 - categorical_accuracy: 0.9945 - precision: 0.9945 - recall: 0.9945 - val_loss: 0.0546 - val_categorical_accuracy: 0.9829 - val_precision: 0.9829 - val_recall: 0.9829\n",
      "Epoch 7/10\n",
      "2103/2103 [==============================] - 236s 112ms/step - loss: 0.0172 - categorical_accuracy: 0.9949 - precision: 0.9949 - recall: 0.9949 - val_loss: 0.0631 - val_categorical_accuracy: 0.9779 - val_precision: 0.9779 - val_recall: 0.9779\n",
      "Epoch 8/10\n",
      "2103/2103 [==============================] - 239s 114ms/step - loss: 0.0075 - categorical_accuracy: 0.9977 - precision: 0.9977 - recall: 0.9977 - val_loss: 0.0451 - val_categorical_accuracy: 0.9828 - val_precision: 0.9828 - val_recall: 0.9828\n",
      "Epoch 9/10\n",
      "2103/2103 [==============================] - 238s 113ms/step - loss: 0.0096 - categorical_accuracy: 0.9972 - precision: 0.9972 - recall: 0.9972 - val_loss: 0.0413 - val_categorical_accuracy: 0.9891 - val_precision: 0.9891 - val_recall: 0.9891\n",
      "Epoch 10/10\n",
      "2103/2103 [==============================] - 237s 113ms/step - loss: 0.0170 - categorical_accuracy: 0.9952 - precision: 0.9952 - recall: 0.9952 - val_loss: 0.0480 - val_categorical_accuracy: 0.9861 - val_precision: 0.9861 - val_recall: 0.9861\n"
     ]
    }
   ],
   "source": [
    "history = cnn_model.fit(train_generator,validation_data=validation_generator,epochs=10)"
   ]
  },
  {
   "cell_type": "code",
   "execution_count": 8,
   "id": "edacaa05",
   "metadata": {},
   "outputs": [
    {
     "data": {
      "image/png": "[encoded data removed]",
      "text/plain": [
       "<Figure size 640x480 with 1 Axes>"
      ]
     },
     "metadata": {},
     "output_type": "display_data"
    }
   ],
   "source": [
    "fig1 = plt.gcf()\n",
    "plt.plot(history.history['categorical_accuracy'])\n",
    "plt.plot(history.history['val_categorical_accuracy'])\n",
    "plt.axis(ymin=0.4,ymax=1)\n",
    "plt.grid()\n",
    "plt.title('Model Accuracy')\n",
    "plt.ylabel('Accuracy')\n",
    "plt.xlabel('Epochs')\n",
    "plt.legend(['train', 'validation'])\n",
    "plt.show()"
   ]
  },
  {
   "cell_type": "code",
   "execution_count": 9,
   "id": "3e30e0a1",
   "metadata": {},
   "outputs": [
    {
     "data": {
      "text/plain": [
       "Text(0.5, 0, 'Epochs')"
      ]
     },
     "execution_count": 9,
     "metadata": {},
     "output_type": "execute_result"
    },
    {
     "data": {
      "image/png": "[encoded data removed]",
      "text/plain": [
       "<Figure size 640x480 with 1 Axes>"
      ]
     },
     "metadata": {},
     "output_type": "display_data"
    }
   ],
   "source": [
    "fig2 = plt.gcf()\n",
    "plt.plot(history.history[\"loss\"])\n",
    "plt.plot(history.history[\"val_loss\"])\n",
    "plt.ylim([0,2])\n",
    "plt.grid()\n",
    "plt.title('Model Loss')\n",
    "plt.ylabel(\"Loss (training and validation)\")\n",
    "plt.xlabel(\"Epochs\")"
   ]
  },
  {
   "cell_type": "code",
   "execution_count": 10,
   "id": "33215a5c",
   "metadata": {},
   "outputs": [],
   "source": [
    "cnn_model.save(\"cnn_driver_drowsiness_detection.h5\")"
   ]
  },
  {
   "cell_type": "code",
   "execution_count": 11,
   "id": "146f4dd5",
   "metadata": {},
   "outputs": [],
   "source": [
    "# testing model"
   ]
  },
  {
   "cell_type": "code",
   "execution_count": 3,
   "id": "da345772",
   "metadata": {},
   "outputs": [
    {
     "ename": "ModuleNotFoundError",
     "evalue": "No module named 'cv2'",
     "output_type": "error",
     "traceback": [
      "\u001b[1;31m---------------------------------------------------------------------------\u001b[0m",
      "\u001b[1;31mModuleNotFoundError\u001b[0m                       Traceback (most recent call last)",
      "Cell \u001b[1;32mIn[3], line 1\u001b[0m\n\u001b[1;32m----> 1\u001b[0m \u001b[39mimport\u001b[39;00m \u001b[39mcv2\u001b[39;00m\n\u001b[0;32m      2\u001b[0m img_height, img_width \u001b[39m=\u001b[39m \u001b[39m32\u001b[39m,\u001b[39m32\u001b[39m\n\u001b[0;32m      3\u001b[0m image\u001b[39m=\u001b[39mcv2\u001b[39m.\u001b[39mimread(\u001b[39m\"\u001b[39m\u001b[39mD:/s0002/validation/s0037_00003_1_0_0_0_0_01.png\u001b[39m\u001b[39m\"\u001b[39m)\n",
      "\u001b[1;31mModuleNotFoundError\u001b[0m: No module named 'cv2'"
     ]
    }
   ],
   "source": [
    "import cv2\n",
    "img_height, img_width = 32,32\n",
    "image=cv2.imread(\"D:/s0002/validation/s0037_00003_1_0_0_0_0_01.png\")\n",
    "image_resized= cv2.resize(image, (img_height,img_width))\n",
    "image=np.expand_dims(image_resized,axis=0)"
   ]
  },
  {
   "cell_type": "code",
   "execution_count": null,
   "id": "0c7c9738",
   "metadata": {},
   "outputs": [],
   "source": [
    "import cv2\n",
    "img_height, img_width = 32,32\n",
    "image=cv2.imread(\"D:/s0002/validation/s0037_00003_1_0_0_0_0_01.png\")\n",
    "print(image.shape)\n",
    "r_eye = cv2.cvtColor(image,cv2.COLOR_BGR2RGB)\n",
    "print(r_eye.shape)\n",
    "r_eye = cv2.resize(r_eye, (img_height,img_width))\n",
    "print(r_eye.shape)\n",
    "#r_eye= r_eye/255\n",
    "r_eye=  r_eye.reshape((-1, 32, 32, 3))\n",
    "print(r_eye.shape)\n",
    "#r_eye = np.expand_dims(r_eye,axis=0)\n",
    "pred=cnn_model.predict(r_eye)"
   ]
  },
  {
   "cell_type": "code",
   "execution_count": null,
   "id": "05198a90",
   "metadata": {},
   "outputs": [],
   "source": [
    "np.argmax(pred)"
   ]
  },
  {
   "cell_type": "code",
   "execution_count": null,
   "id": "edbf7d46",
   "metadata": {},
   "outputs": [],
   "source": [
    "import cv2\n",
    "img_height, img_width = 32,32\n",
    "image=cv2.imread(\"D:/s0002/validation/s0037_00003_1_0_0_0_0_01.png\")\n",
    "image_resized= cv2.resize(image, (img_height,img_width))\n",
    "image=np.expand_dims(image_resized,axis=0)"
   ]
  },
  {
   "cell_type": "code",
   "execution_count": null,
   "id": "48fdb7a1",
   "metadata": {},
   "outputs": [],
   "source": [
    "pred=cnn_model.predict(image)"
   ]
  },
  {
   "cell_type": "code",
   "execution_count": null,
   "id": "2dd270ab",
   "metadata": {},
   "outputs": [],
   "source": [
    "output_class=np.argmax(pred)\n",
    "print(\"The predicted class is\", output_class)"
   ]
  },
  {
   "cell_type": "code",
   "execution_count": null,
   "id": "e2f0138b",
   "metadata": {},
   "outputs": [],
   "source": [
    "if output_class == 0:\n",
    "    class_label = 'drowsy'\n",
    "else:\n",
    "    class_label = 'not drowsy'\n",
    "\n",
    "print(\"The driver in the image is predicted to be:\", class_label)"
   ]
  },
  {
   "cell_type": "code",
   "execution_count": null,
   "id": "5b3b5d93",
   "metadata": {},
   "outputs": [],
   "source": [
    "from keras.models import load_model\n",
    "test_model = load_model(\"cnn_driver_drowsiness_detection.h5\")\n",
    "pred = np.argmax(test_model.predict(image), axis=-1)\n",
    "print(pred)"
   ]
  },
  {
   "cell_type": "code",
   "execution_count": null,
   "id": "2eeea724",
   "metadata": {},
   "outputs": [],
   "source": [
    "# model working "
   ]
  },
  {
   "cell_type": "code",
   "execution_count": null,
   "id": "b345ca1e",
   "metadata": {},
   "outputs": [],
   "source": [
    "import os\n",
    "from twilio.rest import Client\n",
    "\n",
    "def sms():\n",
    "    client = Client('AC1596f493b473f5cc898b3ef518229ea2', '3e7600418f12686f8f3b5de18b2f8207')\n",
    "    message = client.messages.create(\n",
    "                              body='Devansh is drowsy while driving',\n",
    "                              from_='+15154894927',\n",
    "                              to='+919893152542'\n",
    "                          )\n",
    "    print(message.sid)"
   ]
  },
  {
   "cell_type": "code",
   "execution_count": null,
   "id": "e12cdb24",
   "metadata": {},
   "outputs": [],
   "source": [
    "import cv2\n",
    "import os\n",
    "from keras.models import load_model\n",
    "import numpy as np\n",
    "# from pygame import mixer\n",
    "import time\n",
    "import winsound\n",
    "frequency = 2500\n",
    "duration = 1000 \n",
    "\n",
    "# mixer.init()\n",
    "# sound = mixer.Sound('alarm1.wav')\n",
    "\n",
    "faceCascade = cv2.CascadeClassifier(cv2.data.haarcascades +'haarcascade_frontalface_default.xml')\n",
    "eye_cascadel = cv2.CascadeClassifier(cv2.data.haarcascades + 'haarcascade_lefteye_2splits.xml')\n",
    "eye_cascader = cv2.CascadeClassifier(cv2.data.haarcascades + 'haarcascade_righteye_2splits.xml')\n",
    "# face = cv2.CascadeClassifier('haarcascade_frontalface_default.xml')\n",
    "# leye = cv2.CascadeClassifier('haarcascade_lefteye_2splits.xml')\n",
    "# reye = cv2.CascadeClassifier('haarcascade_righteye_2splits.xml')\n",
    "\n",
    "lbl=['Drowsy!','Awake!']\n",
    "\n",
    "model = load_model(\"cnn_driver_drowsiness_detection.h5\")\n",
    "path = os.getcwd()\n",
    "cap = cv2.VideoCapture(0)\n",
    "font = cv2.FONT_HERSHEY_COMPLEX_SMALL\n",
    "count=0\n",
    "score=0\n",
    "thicc=2\n",
    "rpred=[99]\n",
    "lpred=[99]\n",
    "\n",
    "while(True):\n",
    "    ret, frame = cap.read()\n",
    "    height,width = frame.shape[:2] \n",
    "\n",
    "    #gray = cv2.cvtColor(frame, cv2.COLOR_BGR2GRAY)\n",
    "    \n",
    "    gray = cv2.cvtColor(frame, cv2.COLOR_BGR2RGB)\n",
    "    \n",
    "    faces = faceCascade.detectMultiScale(gray,minNeighbors=5,scaleFactor=1.1,minSize=(25,25))\n",
    "    left_eye = eye_cascadel.detectMultiScale(gray)\n",
    "    right_eye =  eye_cascader.detectMultiScale(gray)\n",
    "\n",
    "    cv2.rectangle(frame, (0,height-60) , (200,height) , (0,0,0) , thickness=cv2.FILLED )\n",
    "\n",
    "    for (x,y,w,h) in faces:\n",
    "        cv2.rectangle(frame, (x,y) , (x+w,y+h) , (0,255,0) , 1 )\n",
    "\n",
    "    for (x,y,w,h) in right_eye:\n",
    "        r_eye=frame[y:y+h,x:x+w]\n",
    "        count=count+1\n",
    "        r_eye = cv2.cvtColor(r_eye,cv2.COLOR_BGR2RGB)\n",
    "        r_eye = cv2.resize(r_eye,(32,32))\n",
    "        r_eye=  r_eye.reshape((-1, 32, 32, 3))\n",
    "\n",
    "        # predict_classes is depricated\n",
    "        #rpred = model.predict_classes(r_eye) \n",
    "        \n",
    "        rpred = np.argmax(model.predict(r_eye), axis=-1)\n",
    "        if(rpred[0]==1):\n",
    "            lbl='Awake!' \n",
    "        if(rpred[0]==0):\n",
    "            lbl='Drowsy!'\n",
    "        break\n",
    "\n",
    "    for (x,y,w,h) in left_eye:\n",
    "        l_eye=frame[y:y+h,x:x+w]\n",
    "        count=count+1\n",
    "        l_eye = cv2.cvtColor(l_eye,cv2.COLOR_BGR2RGB)  \n",
    "        l_eye = cv2.resize(l_eye,(32,32))\n",
    "        l_eye=l_eye.reshape((-1, 32, 32, 3))\n",
    "        \n",
    "        # predict_classes is depricated\n",
    "        #lpred = model.predict_classes(l_eye)\n",
    "        \n",
    "        lpred = np.argmax(model.predict(l_eye), axis=-1)\n",
    "        if(lpred[0]==1):\n",
    "            lbl='Awake!'   \n",
    "        if(lpred[0]==0):\n",
    "            lbl='Drowsy!'\n",
    "        break\n",
    "\n",
    "    if(rpred[0]==0 and lpred[0]==0):\n",
    "        score=score+1\n",
    "        cv2.putText(frame,\"Drowsy!\",(0,height-20), font, 1,(0,0,255),1,cv2.LINE_AA)\n",
    "    # if(rpred[0]==1 or lpred[0]==1):\n",
    "    else:\n",
    "        score=score-1\n",
    "        cv2.putText(frame,\"Awake!\",(0,height-20), font, 1,(0,255,0),1,cv2.LINE_AA)\n",
    "    \n",
    "        \n",
    "    if(score<0):\n",
    "        score=0   \n",
    "    cv2.putText(frame,'Score:'+str(score),(100,height-20), font, 1,(255,255,255),1,cv2.LINE_AA)\n",
    "    if(score>24):\n",
    "        sms()\n",
    "        #person is feeling sleepy so we beep the alarm\n",
    "        cv2.imwrite(os.path.join(path,'image.jpg'),frame)\n",
    "        try:\n",
    "#             sound.play()\n",
    "            winsound.Beep(frequency, duration)\n",
    "            \n",
    "        except:  # isplaying = False\n",
    "            pass\n",
    "        if(thicc<16):\n",
    "            thicc= thicc+2\n",
    "        else:\n",
    "            thicc=thicc-2\n",
    "            if(thicc<2):\n",
    "                thicc=2\n",
    "        cv2.rectangle(frame,(0,0),(width,height),(0,0,255),thicc) \n",
    "    cv2.imshow('frame',frame)\n",
    "    if cv2.waitKey(1) & 0xFF == ord('q'):\n",
    "        break\n",
    "cap.release()\n",
    "cv2.destroyAllWindows()"
   ]
  },
  {
   "cell_type": "code",
   "execution_count": null,
   "id": "43edd368",
   "metadata": {},
   "outputs": [],
   "source": [
    "import cv2\n",
    "print(cv2.__file__)\n",
    "print(cv2.data.haarcascades)"
   ]
  }
 ],
 "metadata": {
  "kernelspec": {
   "display_name": "base",
   "language": "python",
   "name": "python3"
  },
  "language_info": {
   "codemirror_mode": {
    "name": "ipython",
    "version": 3
   },
   "file_extension": ".py",
   "mimetype": "text/x-python",
   "name": "python",
   "nbconvert_exporter": "python",
   "pygments_lexer": "ipython3",
   "version": "3.9.13"
  },
  "vscode": {
   "interpreter": {
    "hash": "b09ec625f77bf4fd762565a912b97636504ad6ec901eb2d0f4cf5a7de23e1ee5"
   }
  }
 },
 "nbformat": 4,
 "nbformat_minor": 5
}
